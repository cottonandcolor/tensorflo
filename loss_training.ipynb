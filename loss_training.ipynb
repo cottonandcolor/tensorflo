{
 "cells": [
  {
   "cell_type": "code",
   "execution_count": 33,
   "metadata": {},
   "outputs": [
    {
     "name": "stdout",
     "output_type": "stream",
     "text": [
      "Populating the interactive namespace from numpy and matplotlib\n"
     ]
    }
   ],
   "source": [
    "import tensorflow as tf\n",
    "import numpy as np\n",
    "from matplotlib.colors import ListedColormap #Uncomment these if you have installed matplotlib (pip3 install matplotlib)\n",
    "%pylab inline"
   ]
  },
  {
   "cell_type": "code",
   "execution_count": 34,
   "metadata": {
    "collapsed": true
   },
   "outputs": [],
   "source": [
    "with open(\"x_circles.data\",'rb') as f:\n",
    "    x = np.load(f)\n",
    "with open(\"y_circles.data\",'rb') as f:\n",
    "    y = np.load(f).reshape(-1,1)"
   ]
  },
  {
   "cell_type": "code",
   "execution_count": 35,
   "metadata": {},
   "outputs": [
    {
     "data": {
      "text/plain": [
       "((100, 2), (100, 1))"
      ]
     },
     "execution_count": 35,
     "metadata": {},
     "output_type": "execute_result"
    }
   ],
   "source": [
    "x.shape, y.shape"
   ]
  },
  {
   "cell_type": "code",
   "execution_count": 36,
   "metadata": {},
   "outputs": [
    {
     "data": {
      "text/plain": [
       "<matplotlib.collections.PathCollection at 0x116935750>"
      ]
     },
     "execution_count": 36,
     "metadata": {},
     "output_type": "execute_result"
    },
    {
     "data": {
      "image/png": "[encoded data removed]",
      "text/plain": [
       "<matplotlib.figure.Figure at 0x116889990>"
      ]
     },
     "metadata": {},
     "output_type": "display_data"
    }
   ],
   "source": [
    "scatter(x[:,0], x[:,1], c=y, cmap= ListedColormap(['#FF0000', '#0000FF']))"
   ]
  },
  {
   "cell_type": "code",
   "execution_count": 37,
   "metadata": {
    "collapsed": true
   },
   "outputs": [],
   "source": [
    "class LogisticRegression():\n",
    "    def __init__(self, batchsize, xsize, optimizer=tf.train.GradientDescentOptimizer):\n",
    "        self.learning_rate = tf.Variable(0.0, dtype=tf.float32, trainable=False)\n",
    "        self.x = tf.placeholder(shape=(batchsize, xsize), dtype=tf.float32, name=\"x\")\n",
    "        self.y = tf.placeholder(shape=(batchsize,1), dtype=tf.float32, name=\"y\")\n",
    "        w = tf.get_variable(\"w\", shape=(xsize,1))\n",
    "        b = tf.get_variable(\"b\", shape=(1))\n",
    "        logit = tf.add(tf.matmul(self.x,w),b) #Broadcast\n",
    "        self.proba = tf.sigmoid(logit)\n",
    "        self.loss = tf.reduce_mean(tf.nn.sigmoid_cross_entropy_with_logits(logits=logit, labels=self.y)) \n",
    "        self.train = optimizer(self.learning_rate).minimize(self.loss)"
   ]
  },
  {
   "cell_type": "code",
   "execution_count": 38,
   "metadata": {},
   "outputs": [
    {
     "ename": "ValueError",
     "evalue": "Variable LR/w already exists, disallowed. Did you mean to set reuse=True in VarScope? Originally defined at:\n\n  File \"<ipython-input-5-77d2899a4887>\", line 6, in __init__\n    w = tf.get_variable(\"w\", shape=(xsize,1))\n  File \"<ipython-input-6-a175c081b5bf>\", line 3, in <module>\n    lr = LogisticRegression(100,2)\n  File \"/usr/local/lib/python2.7/site-packages/IPython/core/interactiveshell.py\", line 2882, in run_code\n    exec(code_obj, self.user_global_ns, self.user_ns)\n",
     "output_type": "error",
     "traceback": [
      "\u001b[0;31m---------------------------------------------------------------------------\u001b[0m",
      "\u001b[0;31mValueError\u001b[0m                                Traceback (most recent call last)",
      "\u001b[0;32m<ipython-input-38-a175c081b5bf>\u001b[0m in \u001b[0;36m<module>\u001b[0;34m()\u001b[0m\n\u001b[1;32m      1\u001b[0m \u001b[0minitializer\u001b[0m \u001b[0;34m=\u001b[0m \u001b[0mtf\u001b[0m\u001b[0;34m.\u001b[0m\u001b[0mrandom_uniform_initializer\u001b[0m\u001b[0;34m(\u001b[0m\u001b[0mminval\u001b[0m\u001b[0;34m=\u001b[0m\u001b[0;34m-\u001b[0m\u001b[0;36m0.05\u001b[0m\u001b[0;34m,\u001b[0m \u001b[0mmaxval\u001b[0m\u001b[0;34m=\u001b[0m\u001b[0;36m0.05\u001b[0m\u001b[0;34m)\u001b[0m\u001b[0;34m\u001b[0m\u001b[0m\n\u001b[1;32m      2\u001b[0m \u001b[0;32mwith\u001b[0m \u001b[0mtf\u001b[0m\u001b[0;34m.\u001b[0m\u001b[0mvariable_scope\u001b[0m\u001b[0;34m(\u001b[0m\u001b[0;34m\"LR\"\u001b[0m\u001b[0;34m,\u001b[0m \u001b[0mreuse\u001b[0m\u001b[0;34m=\u001b[0m\u001b[0mNone\u001b[0m\u001b[0;34m,\u001b[0m \u001b[0minitializer\u001b[0m\u001b[0;34m=\u001b[0m\u001b[0minitializer\u001b[0m\u001b[0;34m)\u001b[0m\u001b[0;34m:\u001b[0m\u001b[0;34m\u001b[0m\u001b[0m\n\u001b[0;32m----> 3\u001b[0;31m     \u001b[0mlr\u001b[0m \u001b[0;34m=\u001b[0m \u001b[0mLogisticRegression\u001b[0m\u001b[0;34m(\u001b[0m\u001b[0;36m100\u001b[0m\u001b[0;34m,\u001b[0m\u001b[0;36m2\u001b[0m\u001b[0;34m)\u001b[0m\u001b[0;34m\u001b[0m\u001b[0m\n\u001b[0m",
      "\u001b[0;32m<ipython-input-37-77d2899a4887>\u001b[0m in \u001b[0;36m__init__\u001b[0;34m(self, batchsize, xsize, optimizer)\u001b[0m\n\u001b[1;32m      4\u001b[0m         \u001b[0mself\u001b[0m\u001b[0;34m.\u001b[0m\u001b[0mx\u001b[0m \u001b[0;34m=\u001b[0m \u001b[0mtf\u001b[0m\u001b[0;34m.\u001b[0m\u001b[0mplaceholder\u001b[0m\u001b[0;34m(\u001b[0m\u001b[0mshape\u001b[0m\u001b[0;34m=\u001b[0m\u001b[0;34m(\u001b[0m\u001b[0mbatchsize\u001b[0m\u001b[0;34m,\u001b[0m \u001b[0mxsize\u001b[0m\u001b[0;34m)\u001b[0m\u001b[0;34m,\u001b[0m \u001b[0mdtype\u001b[0m\u001b[0;34m=\u001b[0m\u001b[0mtf\u001b[0m\u001b[0;34m.\u001b[0m\u001b[0mfloat32\u001b[0m\u001b[0;34m,\u001b[0m \u001b[0mname\u001b[0m\u001b[0;34m=\u001b[0m\u001b[0;34m\"x\"\u001b[0m\u001b[0;34m)\u001b[0m\u001b[0;34m\u001b[0m\u001b[0m\n\u001b[1;32m      5\u001b[0m         \u001b[0mself\u001b[0m\u001b[0;34m.\u001b[0m\u001b[0my\u001b[0m \u001b[0;34m=\u001b[0m \u001b[0mtf\u001b[0m\u001b[0;34m.\u001b[0m\u001b[0mplaceholder\u001b[0m\u001b[0;34m(\u001b[0m\u001b[0mshape\u001b[0m\u001b[0;34m=\u001b[0m\u001b[0;34m(\u001b[0m\u001b[0mbatchsize\u001b[0m\u001b[0;34m,\u001b[0m\u001b[0;36m1\u001b[0m\u001b[0;34m)\u001b[0m\u001b[0;34m,\u001b[0m \u001b[0mdtype\u001b[0m\u001b[0;34m=\u001b[0m\u001b[0mtf\u001b[0m\u001b[0;34m.\u001b[0m\u001b[0mfloat32\u001b[0m\u001b[0;34m,\u001b[0m \u001b[0mname\u001b[0m\u001b[0;34m=\u001b[0m\u001b[0;34m\"y\"\u001b[0m\u001b[0;34m)\u001b[0m\u001b[0;34m\u001b[0m\u001b[0m\n\u001b[0;32m----> 6\u001b[0;31m         \u001b[0mw\u001b[0m \u001b[0;34m=\u001b[0m \u001b[0mtf\u001b[0m\u001b[0;34m.\u001b[0m\u001b[0mget_variable\u001b[0m\u001b[0;34m(\u001b[0m\u001b[0;34m\"w\"\u001b[0m\u001b[0;34m,\u001b[0m \u001b[0mshape\u001b[0m\u001b[0;34m=\u001b[0m\u001b[0;34m(\u001b[0m\u001b[0mxsize\u001b[0m\u001b[0;34m,\u001b[0m\u001b[0;36m1\u001b[0m\u001b[0;34m)\u001b[0m\u001b[0;34m)\u001b[0m\u001b[0;34m\u001b[0m\u001b[0m\n\u001b[0m\u001b[1;32m      7\u001b[0m         \u001b[0mb\u001b[0m \u001b[0;34m=\u001b[0m \u001b[0mtf\u001b[0m\u001b[0;34m.\u001b[0m\u001b[0mget_variable\u001b[0m\u001b[0;34m(\u001b[0m\u001b[0;34m\"b\"\u001b[0m\u001b[0;34m,\u001b[0m \u001b[0mshape\u001b[0m\u001b[0;34m=\u001b[0m\u001b[0;34m(\u001b[0m\u001b[0;36m1\u001b[0m\u001b[0;34m)\u001b[0m\u001b[0;34m)\u001b[0m\u001b[0;34m\u001b[0m\u001b[0m\n\u001b[1;32m      8\u001b[0m         \u001b[0mlogit\u001b[0m \u001b[0;34m=\u001b[0m \u001b[0mtf\u001b[0m\u001b[0;34m.\u001b[0m\u001b[0madd\u001b[0m\u001b[0;34m(\u001b[0m\u001b[0mtf\u001b[0m\u001b[0;34m.\u001b[0m\u001b[0mmatmul\u001b[0m\u001b[0;34m(\u001b[0m\u001b[0mself\u001b[0m\u001b[0;34m.\u001b[0m\u001b[0mx\u001b[0m\u001b[0;34m,\u001b[0m\u001b[0mw\u001b[0m\u001b[0;34m)\u001b[0m\u001b[0;34m,\u001b[0m\u001b[0mb\u001b[0m\u001b[0;34m)\u001b[0m \u001b[0;31m#Broadcast\u001b[0m\u001b[0;34m\u001b[0m\u001b[0m\n",
      "\u001b[0;32m/usr/local/lib/python2.7/site-packages/tensorflow/python/ops/variable_scope.pyc\u001b[0m in \u001b[0;36mget_variable\u001b[0;34m(name, shape, dtype, initializer, regularizer, trainable, collections, caching_device, partitioner, validate_shape, use_resource, custom_getter)\u001b[0m\n\u001b[1;32m   1047\u001b[0m       \u001b[0mcollections\u001b[0m\u001b[0;34m=\u001b[0m\u001b[0mcollections\u001b[0m\u001b[0;34m,\u001b[0m \u001b[0mcaching_device\u001b[0m\u001b[0;34m=\u001b[0m\u001b[0mcaching_device\u001b[0m\u001b[0;34m,\u001b[0m\u001b[0;34m\u001b[0m\u001b[0m\n\u001b[1;32m   1048\u001b[0m       \u001b[0mpartitioner\u001b[0m\u001b[0;34m=\u001b[0m\u001b[0mpartitioner\u001b[0m\u001b[0;34m,\u001b[0m \u001b[0mvalidate_shape\u001b[0m\u001b[0;34m=\u001b[0m\u001b[0mvalidate_shape\u001b[0m\u001b[0;34m,\u001b[0m\u001b[0;34m\u001b[0m\u001b[0m\n\u001b[0;32m-> 1049\u001b[0;31m       use_resource=use_resource, custom_getter=custom_getter)\n\u001b[0m\u001b[1;32m   1050\u001b[0m get_variable_or_local_docstring = (\n\u001b[1;32m   1051\u001b[0m     \"\"\"%s\n",
      "\u001b[0;32m/usr/local/lib/python2.7/site-packages/tensorflow/python/ops/variable_scope.pyc\u001b[0m in \u001b[0;36mget_variable\u001b[0;34m(self, var_store, name, shape, dtype, initializer, regularizer, trainable, collections, caching_device, partitioner, validate_shape, use_resource, custom_getter)\u001b[0m\n\u001b[1;32m    946\u001b[0m           \u001b[0mcollections\u001b[0m\u001b[0;34m=\u001b[0m\u001b[0mcollections\u001b[0m\u001b[0;34m,\u001b[0m \u001b[0mcaching_device\u001b[0m\u001b[0;34m=\u001b[0m\u001b[0mcaching_device\u001b[0m\u001b[0;34m,\u001b[0m\u001b[0;34m\u001b[0m\u001b[0m\n\u001b[1;32m    947\u001b[0m           \u001b[0mpartitioner\u001b[0m\u001b[0;34m=\u001b[0m\u001b[0mpartitioner\u001b[0m\u001b[0;34m,\u001b[0m \u001b[0mvalidate_shape\u001b[0m\u001b[0;34m=\u001b[0m\u001b[0mvalidate_shape\u001b[0m\u001b[0;34m,\u001b[0m\u001b[0;34m\u001b[0m\u001b[0m\n\u001b[0;32m--> 948\u001b[0;31m           use_resource=use_resource, custom_getter=custom_getter)\n\u001b[0m\u001b[1;32m    949\u001b[0m \u001b[0;34m\u001b[0m\u001b[0m\n\u001b[1;32m    950\u001b[0m   def _get_partitioned_variable(self,\n",
      "\u001b[0;32m/usr/local/lib/python2.7/site-packages/tensorflow/python/ops/variable_scope.pyc\u001b[0m in \u001b[0;36mget_variable\u001b[0;34m(self, name, shape, dtype, initializer, regularizer, reuse, trainable, collections, caching_device, partitioner, validate_shape, use_resource, custom_getter)\u001b[0m\n\u001b[1;32m    354\u001b[0m           \u001b[0mreuse\u001b[0m\u001b[0;34m=\u001b[0m\u001b[0mreuse\u001b[0m\u001b[0;34m,\u001b[0m \u001b[0mtrainable\u001b[0m\u001b[0;34m=\u001b[0m\u001b[0mtrainable\u001b[0m\u001b[0;34m,\u001b[0m \u001b[0mcollections\u001b[0m\u001b[0;34m=\u001b[0m\u001b[0mcollections\u001b[0m\u001b[0;34m,\u001b[0m\u001b[0;34m\u001b[0m\u001b[0m\n\u001b[1;32m    355\u001b[0m           \u001b[0mcaching_device\u001b[0m\u001b[0;34m=\u001b[0m\u001b[0mcaching_device\u001b[0m\u001b[0;34m,\u001b[0m \u001b[0mpartitioner\u001b[0m\u001b[0;34m=\u001b[0m\u001b[0mpartitioner\u001b[0m\u001b[0;34m,\u001b[0m\u001b[0;34m\u001b[0m\u001b[0m\n\u001b[0;32m--> 356\u001b[0;31m           validate_shape=validate_shape, use_resource=use_resource)\n\u001b[0m\u001b[1;32m    357\u001b[0m \u001b[0;34m\u001b[0m\u001b[0m\n\u001b[1;32m    358\u001b[0m   def _get_partitioned_variable(\n",
      "\u001b[0;32m/usr/local/lib/python2.7/site-packages/tensorflow/python/ops/variable_scope.pyc\u001b[0m in \u001b[0;36m_true_getter\u001b[0;34m(name, shape, dtype, initializer, regularizer, reuse, trainable, collections, caching_device, partitioner, validate_shape, use_resource)\u001b[0m\n\u001b[1;32m    339\u001b[0m           \u001b[0mtrainable\u001b[0m\u001b[0;34m=\u001b[0m\u001b[0mtrainable\u001b[0m\u001b[0;34m,\u001b[0m \u001b[0mcollections\u001b[0m\u001b[0;34m=\u001b[0m\u001b[0mcollections\u001b[0m\u001b[0;34m,\u001b[0m\u001b[0;34m\u001b[0m\u001b[0m\n\u001b[1;32m    340\u001b[0m           \u001b[0mcaching_device\u001b[0m\u001b[0;34m=\u001b[0m\u001b[0mcaching_device\u001b[0m\u001b[0;34m,\u001b[0m \u001b[0mvalidate_shape\u001b[0m\u001b[0;34m=\u001b[0m\u001b[0mvalidate_shape\u001b[0m\u001b[0;34m,\u001b[0m\u001b[0;34m\u001b[0m\u001b[0m\n\u001b[0;32m--> 341\u001b[0;31m           use_resource=use_resource)\n\u001b[0m\u001b[1;32m    342\u001b[0m \u001b[0;34m\u001b[0m\u001b[0m\n\u001b[1;32m    343\u001b[0m     \u001b[0;32mif\u001b[0m \u001b[0mcustom_getter\u001b[0m \u001b[0;32mis\u001b[0m \u001b[0;32mnot\u001b[0m \u001b[0mNone\u001b[0m\u001b[0;34m:\u001b[0m\u001b[0;34m\u001b[0m\u001b[0m\n",
      "\u001b[0;32m/usr/local/lib/python2.7/site-packages/tensorflow/python/ops/variable_scope.pyc\u001b[0m in \u001b[0;36m_get_single_variable\u001b[0;34m(self, name, shape, dtype, initializer, regularizer, partition_info, reuse, trainable, collections, caching_device, validate_shape, use_resource)\u001b[0m\n\u001b[1;32m    651\u001b[0m                          \u001b[0;34m\" Did you mean to set reuse=True in VarScope? \"\u001b[0m\u001b[0;34m\u001b[0m\u001b[0m\n\u001b[1;32m    652\u001b[0m                          \"Originally defined at:\\n\\n%s\" % (\n\u001b[0;32m--> 653\u001b[0;31m                              name, \"\".join(traceback.format_list(tb))))\n\u001b[0m\u001b[1;32m    654\u001b[0m       \u001b[0mfound_var\u001b[0m \u001b[0;34m=\u001b[0m \u001b[0mself\u001b[0m\u001b[0;34m.\u001b[0m\u001b[0m_vars\u001b[0m\u001b[0;34m[\u001b[0m\u001b[0mname\u001b[0m\u001b[0;34m]\u001b[0m\u001b[0;34m\u001b[0m\u001b[0m\n\u001b[1;32m    655\u001b[0m       \u001b[0;32mif\u001b[0m \u001b[0;32mnot\u001b[0m \u001b[0mshape\u001b[0m\u001b[0;34m.\u001b[0m\u001b[0mis_compatible_with\u001b[0m\u001b[0;34m(\u001b[0m\u001b[0mfound_var\u001b[0m\u001b[0;34m.\u001b[0m\u001b[0mget_shape\u001b[0m\u001b[0;34m(\u001b[0m\u001b[0;34m)\u001b[0m\u001b[0;34m)\u001b[0m\u001b[0;34m:\u001b[0m\u001b[0;34m\u001b[0m\u001b[0m\n",
      "\u001b[0;31mValueError\u001b[0m: Variable LR/w already exists, disallowed. Did you mean to set reuse=True in VarScope? Originally defined at:\n\n  File \"<ipython-input-5-77d2899a4887>\", line 6, in __init__\n    w = tf.get_variable(\"w\", shape=(xsize,1))\n  File \"<ipython-input-6-a175c081b5bf>\", line 3, in <module>\n    lr = LogisticRegression(100,2)\n  File \"/usr/local/lib/python2.7/site-packages/IPython/core/interactiveshell.py\", line 2882, in run_code\n    exec(code_obj, self.user_global_ns, self.user_ns)\n"
     ]
    }
   ],
   "source": [
    "initializer = tf.random_uniform_initializer(minval=-0.05, maxval=0.05)\n",
    "with tf.variable_scope(\"LR\", reuse=None, initializer=initializer):\n",
    "    lr = LogisticRegression(100,2)"
   ]
  },
  {
   "cell_type": "code",
   "execution_count": 39,
   "metadata": {},
   "outputs": [
    {
     "data": {
      "text/plain": [
       "[(u'LR/w:0', [2, 1]),\n",
       " (u'LR/b:0', [1]),\n",
       " (u'MLP/w:0', [2, 2]),\n",
       " (u'MLP/b:0', [2]),\n",
       " (u'MLP/w2:0', [2, 1]),\n",
       " (u'MLP/b2:0', [1]),\n",
       " (u'MLP_adam/w:0', [2, 2]),\n",
       " (u'MLP_adam/b:0', [2]),\n",
       " (u'MLP_adam/w2:0', [2, 1]),\n",
       " (u'MLP_adam/b2:0', [1]),\n",
       " (u'MLP3/w:0', [2, 2]),\n",
       " (u'MLP3/b:0', [2]),\n",
       " (u'MLP3/w2:0', [2, 2]),\n",
       " (u'MLP3/b2:0', [2]),\n",
       " (u'MLP3/w3:0', [2, 1]),\n",
       " (u'MLP3/b3:0', [1])]"
      ]
     },
     "execution_count": 39,
     "metadata": {},
     "output_type": "execute_result"
    }
   ],
   "source": [
    "[(t.name, t.get_shape().as_list()) for t in tf.trainable_variables()]"
   ]
  },
  {
   "cell_type": "code",
   "execution_count": 40,
   "metadata": {},
   "outputs": [
    {
     "data": {
      "text/plain": [
       "0.1"
      ]
     },
     "execution_count": 40,
     "metadata": {},
     "output_type": "execute_result"
    }
   ],
   "source": [
    "sess = tf.InteractiveSession()\n",
    "sess.run(tf.global_variables_initializer()) #Set w,b to random values from distribution\n",
    "sess.run(tf.assign(lr.learning_rate, 0.1))"
   ]
  },
  {
   "cell_type": "code",
   "execution_count": 41,
   "metadata": {},
   "outputs": [
    {
     "name": "stdout",
     "output_type": "stream",
     "text": [
      "[0.69330519, None]\n"
     ]
    }
   ],
   "source": [
    "output = sess.run([lr.loss, lr.train], feed_dict={lr.x:x, lr.y:y})\n",
    "print(output)"
   ]
  },
  {
   "cell_type": "code",
   "execution_count": 42,
   "metadata": {},
   "outputs": [
    {
     "name": "stdout",
     "output_type": "stream",
     "text": [
      "(0.69329619, 0.46000000000000002)\n",
      "(0.69311303, 0.47999999999999998)\n",
      "(0.69311303, 0.47999999999999998)\n",
      "(0.69311303, 0.47999999999999998)\n",
      "(0.69311303, 0.47999999999999998)\n",
      "(0.69311303, 0.47999999999999998)\n",
      "(0.69311303, 0.47999999999999998)\n",
      "(0.69311303, 0.47999999999999998)\n",
      "(0.69311303, 0.47999999999999998)\n",
      "(0.69311303, 0.47999999999999998)\n"
     ]
    }
   ],
   "source": [
    "for i in range(10000):\n",
    "    loss, proba, _ = sess.run([lr.loss, lr.proba, lr.train], feed_dict={lr.x:x, lr.y:y})\n",
    "    if i % 1000 == 0:\n",
    "        proba = sess.run(lr.proba, feed_dict={lr.x:x, lr.y:y})\n",
    "        accuracy = (np.where(proba >= 0.5, 1, 0) == y).mean()\n",
    "        print(loss, accuracy)"
   ]
  },
  {
   "cell_type": "code",
   "execution_count": 43,
   "metadata": {},
   "outputs": [
    {
     "data": {
      "text/plain": [
       "1.0"
      ]
     },
     "execution_count": 43,
     "metadata": {},
     "output_type": "execute_result"
    }
   ],
   "source": [
    "sess.run(tf.global_variables_initializer()) #Make weights random again\n",
    "sess.run(tf.assign(lr.learning_rate, 1.0))"
   ]
  },
  {
   "cell_type": "code",
   "execution_count": 12,
   "metadata": {},
   "outputs": [
    {
     "name": "stdout",
     "output_type": "stream",
     "text": [
      "(0.69332671, 0.60999999999999999)\n",
      "(0.69311303, 0.47999999999999998)\n",
      "(0.69311303, 0.47999999999999998)\n",
      "(0.69311303, 0.47999999999999998)\n",
      "(0.69311303, 0.47999999999999998)\n",
      "(0.69311303, 0.47999999999999998)\n",
      "(0.69311303, 0.47999999999999998)\n",
      "(0.69311303, 0.47999999999999998)\n",
      "(0.69311303, 0.47999999999999998)\n",
      "(0.69311303, 0.47999999999999998)\n"
     ]
    }
   ],
   "source": [
    "for i in range(10000):\n",
    "    loss, proba, _ = sess.run([lr.loss, lr.proba, lr.train], feed_dict={lr.x:x, lr.y:y})\n",
    "    accuracy = (np.where(proba >= 0.5, 1, 0) == y).mean()\n",
    "    if i % 1000 == 0:\n",
    "        print(loss, accuracy)"
   ]
  },
  {
   "cell_type": "code",
   "execution_count": 13,
   "metadata": {
    "collapsed": true
   },
   "outputs": [],
   "source": [
    "class MLP():\n",
    "    def __init__(self, batchsize, xsize, optimizer=tf.train.GradientDescentOptimizer):\n",
    "        self.learning_rate = tf.Variable(0.0, dtype=tf.float32, trainable=False)\n",
    "        self.x = tf.placeholder(shape=(batchsize, xsize), dtype=tf.float32, name=\"x\")\n",
    "        self.y = tf.placeholder(shape=(batchsize,1), dtype=tf.float32, name=\"y\")\n",
    "        \n",
    "        #Hidden Layer\n",
    "        w = tf.get_variable(\"w\", shape=(xsize, 2))\n",
    "        b = tf.get_variable(\"b\", shape=(2))\n",
    "        hidden = tf.sigmoid(tf.matmul(self.x,w) + b) \n",
    "        \n",
    "        w2 = tf.get_variable(\"w2\", shape=(2,1))\n",
    "        b2 = tf.get_variable(\"b2\", shape=(1))\n",
    "        logit = tf.matmul(hidden,w2) + b2\n",
    "        \n",
    "        self.proba = tf.sigmoid(logit)\n",
    "        self.loss = tf.reduce_mean(tf.nn.sigmoid_cross_entropy_with_logits(logits=logit, labels=self.y)) \n",
    "        self.train = optimizer(self.learning_rate).minimize(self.loss)"
   ]
  },
  {
   "cell_type": "code",
   "execution_count": 14,
   "metadata": {},
   "outputs": [],
   "source": [
    "with tf.variable_scope(\"MLP\", reuse=None, initializer=initializer):\n",
    "    mlp = MLP(100, 2)\n",
    "    sess.run(tf.global_variables_initializer())\n",
    "    sess.run(tf.assign(mlp.learning_rate, 0.1))"
   ]
  },
  {
   "cell_type": "code",
   "execution_count": 15,
   "metadata": {},
   "outputs": [
    {
     "name": "stdout",
     "output_type": "stream",
     "text": [
      "(0.6931476, 0.5)\n",
      "(0.69314599, 0.5)\n",
      "(0.69314575, 0.5)\n",
      "(0.69314557, 0.52000000000000002)\n",
      "(0.69314528, 0.53000000000000003)\n",
      "(0.69314516, 0.53000000000000003)\n",
      "(0.69314486, 0.52000000000000002)\n",
      "(0.69314462, 0.53000000000000003)\n",
      "(0.69314432, 0.52000000000000002)\n",
      "(0.69314402, 0.51000000000000001)\n"
     ]
    }
   ],
   "source": [
    "for i in range(10000):\n",
    "    loss, proba,  _  = sess.run([mlp.loss, mlp.proba, mlp.train], feed_dict={mlp.x:x, mlp.y:y})\n",
    "    if i % 1000 == 0:\n",
    "        accuracy = (np.where(proba >= 0.5, 1, 0) == y).mean()                                                       \n",
    "        print(loss, accuracy)"
   ]
  },
  {
   "cell_type": "code",
   "execution_count": 16,
   "metadata": {},
   "outputs": [
    {
     "data": {
      "text/plain": [
       "1.0"
      ]
     },
     "execution_count": 16,
     "metadata": {},
     "output_type": "execute_result"
    }
   ],
   "source": [
    "sess.run(tf.global_variables_initializer()) #Make weights random again\n",
    "sess.run(tf.assign(mlp.learning_rate, 1.0))"
   ]
  },
  {
   "cell_type": "code",
   "execution_count": 17,
   "metadata": {},
   "outputs": [
    {
     "name": "stdout",
     "output_type": "stream",
     "text": [
      "(0.69323421, 0.5)\n",
      "(0.69314742, 0.47999999999999998)\n",
      "(0.69314682, 0.45000000000000001)\n",
      "(0.69314593, 0.51000000000000001)\n",
      "(0.69314402, 0.53000000000000003)\n",
      "(0.69314003, 0.52000000000000002)\n",
      "(0.693133, 0.48999999999999999)\n",
      "(0.69312316, 0.48999999999999999)\n",
      "(0.69311112, 0.48999999999999999)\n",
      "(0.69309282, 0.48999999999999999)\n",
      "(0.6930455, 0.48999999999999999)\n",
      "(0.69272965, 0.47999999999999998)\n",
      "(0.60118383, 0.72999999999999998)\n",
      "(0.48980823, 0.80000000000000004)\n",
      "(0.48427278, 0.81000000000000005)\n",
      "(0.4816356, 0.80000000000000004)\n",
      "(0.47943482, 0.79000000000000004)\n",
      "(0.47702241, 0.79000000000000004)\n",
      "(0.47438905, 0.79000000000000004)\n",
      "(0.47190312, 0.79000000000000004)\n"
     ]
    }
   ],
   "source": [
    "for i in range(20000):\n",
    "    loss, proba, _  = sess.run([mlp.loss, mlp.proba, mlp.train], feed_dict={mlp.x:x, mlp.y:y})\n",
    "    if i % 1000 == 0:\n",
    "        accuracy = (np.where(proba >= 0.5, 1, 0) == y).mean()                                                       \n",
    "        print(loss, accuracy)"
   ]
  },
  {
   "cell_type": "code",
   "execution_count": 18,
   "metadata": {},
   "outputs": [],
   "source": [
    "with tf.variable_scope(\"MLP_adam\", reuse=None, initializer=initializer):\n",
    "    mlp = MLP(100, 2, optimizer=tf.train.AdamOptimizer)\n",
    "    sess.run(tf.global_variables_initializer())\n",
    "    sess.run(tf.assign(mlp.learning_rate,0.001))"
   ]
  },
  {
   "cell_type": "code",
   "execution_count": 19,
   "metadata": {},
   "outputs": [
    {
     "name": "stdout",
     "output_type": "stream",
     "text": [
      "(0.69314766, 0.5)\n",
      "(0.6472404, 0.67000000000000004)\n",
      "(0.59124547, 0.66000000000000003)\n",
      "(0.56631339, 0.68000000000000005)\n",
      "(0.52019483, 0.75)\n",
      "(0.50108832, 0.79000000000000004)\n",
      "(0.4929058, 0.81000000000000005)\n",
      "(0.48796532, 0.81000000000000005)\n",
      "(0.48499689, 0.81000000000000005)\n",
      "(0.48293218, 0.80000000000000004)\n"
     ]
    }
   ],
   "source": [
    "for i in range(10000):\n",
    "    loss, proba,  _  = sess.run([mlp.loss, mlp.proba, mlp.train], feed_dict={mlp.x:x, mlp.y:y}) \n",
    "    if i % 1000 == 0:\n",
    "        accuracy = (np.where(proba >= 0.5, 1, 0) == y).mean()                                                       \n",
    "        print(loss, accuracy)"
   ]
  },
  {
   "cell_type": "code",
   "execution_count": 20,
   "metadata": {},
   "outputs": [
    {
     "data": {
      "text/plain": [
       "0.0099999998"
      ]
     },
     "execution_count": 20,
     "metadata": {},
     "output_type": "execute_result"
    }
   ],
   "source": [
    "sess.run(tf.global_variables_initializer()) #Make weights random again\n",
    "sess.run(tf.assign(mlp.learning_rate, 0.01))"
   ]
  },
  {
   "cell_type": "code",
   "execution_count": 21,
   "metadata": {},
   "outputs": [
    {
     "name": "stdout",
     "output_type": "stream",
     "text": [
      "(0.69360059, 0.5)\n",
      "(0.52470893, 0.76000000000000001)\n",
      "(0.52021736, 0.76000000000000001)\n",
      "(0.51940733, 0.75)\n",
      "(0.51890546, 0.75)\n",
      "(0.51858318, 0.75)\n",
      "(0.51841646, 0.75)\n",
      "(0.51832813, 0.75)\n",
      "(0.51823694, 0.75)\n",
      "(0.51791131, 0.75)\n"
     ]
    }
   ],
   "source": [
    "for i in range(10000):\n",
    "    loss, proba,  _  = sess.run([mlp.loss, mlp.proba, mlp.train], feed_dict={mlp.x:x, mlp.y:y}) \n",
    "    if i % 1000 == 0:\n",
    "        accuracy = (np.where(proba >= 0.5, 1, 0) == y).mean()                                                       \n",
    "        print(loss, accuracy)"
   ]
  },
  {
   "cell_type": "code",
   "execution_count": 22,
   "metadata": {
    "collapsed": true
   },
   "outputs": [],
   "source": [
    "# Baseline optimizer: GradientDescent with starting learning rate of 0.1\n",
    "# Often the easiest optimizer out of the box: AdamOptimizer with starting learning rate of 0.001\n",
    "# To do quick checks of learning rate starting values try going up or down 10x (so check within 1.0, 0.1, 0.01)\n",
    "# Some have found Adam to learn faster, but SGD to eventually get better accuracy\n",
    "# Google state of the art Neural Machine Translation uses Adam for most of the training\n",
    "# and then finishes with some SGD (and then Reinforcement Learning!!)\n",
    "# https://arxiv.org/pdf/1609.08144v2.pdf"
   ]
  },
  {
   "cell_type": "code",
   "execution_count": 23,
   "metadata": {
    "collapsed": true
   },
   "outputs": [],
   "source": [
    "x = np.array([[0,0],[0,1],[1,0],[1,1]])\n",
    "y = np.array([0,1,1,0]).reshape(-1,1)"
   ]
  },
  {
   "cell_type": "code",
   "execution_count": 24,
   "metadata": {},
   "outputs": [],
   "source": [
    "#scatter(x[:,0], x[:,1], c=y, cmap= ListedColormap(['#FF0000', '#0000FF']))"
   ]
  },
  {
   "cell_type": "code",
   "execution_count": 25,
   "metadata": {
    "collapsed": true
   },
   "outputs": [],
   "source": [
    "class MLP3():\n",
    "    def __init__(self, batchsize, xsize, optimizer=tf.train.GradientDescentOptimizer):\n",
    "        self.learning_rate = tf.Variable(0.0, dtype=tf.float32, trainable=False)\n",
    "        self.x = tf.placeholder(shape=(batchsize, xsize), dtype=tf.float32, name=\"x\")\n",
    "        self.y = tf.placeholder(shape=(batchsize,1), dtype=tf.float32, name=\"y\")\n",
    "        \n",
    "        #Hidden1\n",
    "        w = tf.get_variable(\"w\", shape=(xsize, 2))\n",
    "        b = tf.get_variable(\"b\", shape=(2))\n",
    "        hidden1 = tf.square(tf.matmul(self.x,w) + b)\n",
    "        \n",
    "        #hidden2\n",
    "        w2 = tf.get_variable(\"w2\", shape=(xsize, 2))\n",
    "        b2 = tf.get_variable(\"b2\", shape=(2))\n",
    "        hidden2 = tf.square(tf.matmul(hidden1,w2) + b2)\n",
    "        \n",
    "        w3 = tf.get_variable(\"w3\", shape=(2,1))\n",
    "        b3 = tf.get_variable(\"b3\", shape=(1))\n",
    "        logit = tf.matmul(hidden2,w3) + b3\n",
    "        \n",
    "        self.proba = tf.sigmoid(logit)\n",
    "        self.loss = tf.reduce_mean(tf.nn.sigmoid_cross_entropy_with_logits(logits=logit, labels=self.y)) \n",
    "        self.train = optimizer(self.learning_rate).minimize(self.loss)"
   ]
  },
  {
   "cell_type": "code",
   "execution_count": 26,
   "metadata": {},
   "outputs": [],
   "source": [
    "with tf.variable_scope(\"MLP3\", reuse=False, initializer=tf.random_uniform_initializer(minval=-0.05, maxval=0.05)):\n",
    "    mlp = MLP3(None, 2, optimizer=tf.train.AdamOptimizer)\n",
    "    sess.run(tf.global_variables_initializer())\n",
    "    sess.run(tf.assign(mlp.learning_rate, 0.1))"
   ]
  },
  {
   "cell_type": "code",
   "execution_count": 27,
   "metadata": {},
   "outputs": [
    {
     "data": {
      "text/plain": [
       "1.0"
      ]
     },
     "execution_count": 27,
     "metadata": {},
     "output_type": "execute_result"
    }
   ],
   "source": [
    "sess.run(tf.global_variables_initializer())\n",
    "sess.run(tf.assign(mlp.learning_rate, 1.0))"
   ]
  },
  {
   "cell_type": "code",
   "execution_count": 28,
   "metadata": {},
   "outputs": [
    {
     "name": "stdout",
     "output_type": "stream",
     "text": [
      "(0.69323492, 0.5)\n",
      "(1.3768145e-06, 1.0)\n",
      "(8.702745e-07, 1.0)\n",
      "(5.1648624e-07, 1.0)\n",
      "(3.0078451e-07, 1.0)\n",
      "(1.7479486e-07, 1.0)\n",
      "(1.0221274e-07, 1.0)\n",
      "(6.0635621e-08, 1.0)\n",
      "(3.6723403e-08, 1.0)\n",
      "(2.2834023e-08, 1.0)\n"
     ]
    }
   ],
   "source": [
    "for i in range(10000):\n",
    "    loss, proba,  _  = sess.run([mlp.loss, mlp.proba, mlp.train], feed_dict={mlp.x:x, mlp.y:y}) \n",
    "    if i % 1000 == 0:\n",
    "        accuracy = (np.where(proba >= 0.5, 1, 0) == y).mean()                                                       \n",
    "        print(loss, accuracy)"
   ]
  },
  {
   "cell_type": "code",
   "execution_count": null,
   "metadata": {
    "collapsed": true
   },
   "outputs": [],
   "source": []
  },
  {
   "cell_type": "code",
   "execution_count": null,
   "metadata": {
    "collapsed": true
   },
   "outputs": [],
   "source": []
  },
  {
   "cell_type": "code",
   "execution_count": null,
   "metadata": {
    "collapsed": true
   },
   "outputs": [],
   "source": []
  }
 ],
 "metadata": {
  "kernelspec": {
   "display_name": "Python 2",
   "language": "python",
   "name": "python2"
  },
  "language_info": {
   "codemirror_mode": {
    "name": "ipython",
    "version": 2
   },
   "file_extension": ".py",
   "mimetype": "text/x-python",
   "name": "python",
   "nbconvert_exporter": "python",
   "pygments_lexer": "ipython2",
   "version": "2.7.10"
  }
 },
 "nbformat": 4,
 "nbformat_minor": 2
}
